{
  "cells": [
    {
      "cell_type": "markdown",
      "metadata": {
        "id": "ymxatB5WYxlL"
      },
      "source": [
        "# Transformer 실습\n",
        "\n",
        "이번 실습에서는 감정 분석 task에 RNN 대신 Transformer를 구현하여 적용해 볼 것입니다.\n",
        "Library import나 dataloader 생성은 RNN 실습 때와 똑같기 때문에 설명은 넘어가도록 하겠습니다."
      ]
    },
    {
      "cell_type": "code",
      "execution_count": 5,
      "metadata": {
        "id": "1X7RM2du1zcr",
        "outputId": "261e091e-f02d-413a-ddb8-292a99aa6eb9",
        "colab": {
          "base_uri": "https://localhost:8080/"
        }
      },
      "outputs": [
        {
          "output_type": "stream",
          "name": "stdout",
          "text": [
            "Requirement already satisfied: datasets in /usr/local/lib/python3.11/dist-packages (3.5.0)\n",
            "Requirement already satisfied: sacremoses in /usr/local/lib/python3.11/dist-packages (0.1.1)\n",
            "Requirement already satisfied: filelock in /usr/local/lib/python3.11/dist-packages (from datasets) (3.18.0)\n",
            "Requirement already satisfied: numpy>=1.17 in /usr/local/lib/python3.11/dist-packages (from datasets) (2.0.2)\n",
            "Requirement already satisfied: pyarrow>=15.0.0 in /usr/local/lib/python3.11/dist-packages (from datasets) (18.1.0)\n",
            "Requirement already satisfied: dill<0.3.9,>=0.3.0 in /usr/local/lib/python3.11/dist-packages (from datasets) (0.3.8)\n",
            "Requirement already satisfied: pandas in /usr/local/lib/python3.11/dist-packages (from datasets) (2.2.2)\n",
            "Requirement already satisfied: requests>=2.32.2 in /usr/local/lib/python3.11/dist-packages (from datasets) (2.32.3)\n",
            "Requirement already satisfied: tqdm>=4.66.3 in /usr/local/lib/python3.11/dist-packages (from datasets) (4.67.1)\n",
            "Requirement already satisfied: xxhash in /usr/local/lib/python3.11/dist-packages (from datasets) (3.5.0)\n",
            "Requirement already satisfied: multiprocess<0.70.17 in /usr/local/lib/python3.11/dist-packages (from datasets) (0.70.16)\n",
            "Requirement already satisfied: fsspec<=2024.12.0,>=2023.1.0 in /usr/local/lib/python3.11/dist-packages (from fsspec[http]<=2024.12.0,>=2023.1.0->datasets) (2024.12.0)\n",
            "Requirement already satisfied: aiohttp in /usr/local/lib/python3.11/dist-packages (from datasets) (3.11.15)\n",
            "Requirement already satisfied: huggingface-hub>=0.24.0 in /usr/local/lib/python3.11/dist-packages (from datasets) (0.30.1)\n",
            "Requirement already satisfied: packaging in /usr/local/lib/python3.11/dist-packages (from datasets) (24.2)\n",
            "Requirement already satisfied: pyyaml>=5.1 in /usr/local/lib/python3.11/dist-packages (from datasets) (6.0.2)\n",
            "Requirement already satisfied: regex in /usr/local/lib/python3.11/dist-packages (from sacremoses) (2024.11.6)\n",
            "Requirement already satisfied: click in /usr/local/lib/python3.11/dist-packages (from sacremoses) (8.1.8)\n",
            "Requirement already satisfied: joblib in /usr/local/lib/python3.11/dist-packages (from sacremoses) (1.4.2)\n",
            "Requirement already satisfied: aiohappyeyeballs>=2.3.0 in /usr/local/lib/python3.11/dist-packages (from aiohttp->datasets) (2.6.1)\n",
            "Requirement already satisfied: aiosignal>=1.1.2 in /usr/local/lib/python3.11/dist-packages (from aiohttp->datasets) (1.3.2)\n",
            "Requirement already satisfied: attrs>=17.3.0 in /usr/local/lib/python3.11/dist-packages (from aiohttp->datasets) (25.3.0)\n",
            "Requirement already satisfied: frozenlist>=1.1.1 in /usr/local/lib/python3.11/dist-packages (from aiohttp->datasets) (1.5.0)\n",
            "Requirement already satisfied: multidict<7.0,>=4.5 in /usr/local/lib/python3.11/dist-packages (from aiohttp->datasets) (6.3.0)\n",
            "Requirement already satisfied: propcache>=0.2.0 in /usr/local/lib/python3.11/dist-packages (from aiohttp->datasets) (0.3.1)\n",
            "Requirement already satisfied: yarl<2.0,>=1.17.0 in /usr/local/lib/python3.11/dist-packages (from aiohttp->datasets) (1.18.3)\n",
            "Requirement already satisfied: typing-extensions>=3.7.4.3 in /usr/local/lib/python3.11/dist-packages (from huggingface-hub>=0.24.0->datasets) (4.13.0)\n",
            "Requirement already satisfied: charset-normalizer<4,>=2 in /usr/local/lib/python3.11/dist-packages (from requests>=2.32.2->datasets) (3.4.1)\n",
            "Requirement already satisfied: idna<4,>=2.5 in /usr/local/lib/python3.11/dist-packages (from requests>=2.32.2->datasets) (3.10)\n",
            "Requirement already satisfied: urllib3<3,>=1.21.1 in /usr/local/lib/python3.11/dist-packages (from requests>=2.32.2->datasets) (2.3.0)\n",
            "Requirement already satisfied: certifi>=2017.4.17 in /usr/local/lib/python3.11/dist-packages (from requests>=2.32.2->datasets) (2025.1.31)\n",
            "Requirement already satisfied: python-dateutil>=2.8.2 in /usr/local/lib/python3.11/dist-packages (from pandas->datasets) (2.8.2)\n",
            "Requirement already satisfied: pytz>=2020.1 in /usr/local/lib/python3.11/dist-packages (from pandas->datasets) (2025.2)\n",
            "Requirement already satisfied: tzdata>=2022.7 in /usr/local/lib/python3.11/dist-packages (from pandas->datasets) (2025.2)\n",
            "Requirement already satisfied: six>=1.5 in /usr/local/lib/python3.11/dist-packages (from python-dateutil>=2.8.2->pandas->datasets) (1.17.0)\n"
          ]
        }
      ],
      "source": [
        "!pip install datasets sacremoses"
      ]
    },
    {
      "cell_type": "markdown",
      "source": [
        "## 1단계: Last Word Prediction용 Dataset 준비"
      ],
      "metadata": {
        "id": "bbzzyzV30q6Y"
      }
    },
    {
      "cell_type": "code",
      "source": [
        "import torch\n",
        "from datasets import load_dataset\n",
        "from torch.utils.data import DataLoader\n",
        "from torch.nn.utils.rnn import pad_sequence\n",
        "from transformers import BertTokenizerFast\n",
        "import numpy as np\n",
        "\n",
        "# 데이터셋 로드\n",
        "train_ds = load_dataset(\"stanfordnlp/imdb\", split=\"train[:5%]\")\n",
        "test_ds = load_dataset(\"stanfordnlp/imdb\", split=\"test[:5%]\")\n",
        "\n",
        "# Tokenizer\n",
        "tokenizer = torch.hub.load('huggingface/pytorch-transformers', 'tokenizer', 'bert-base-uncased')\n",
        "\n",
        "# Collate function for last word prediction\n",
        "def collate_fn(batch):\n",
        "    max_len = 400\n",
        "    texts, labels = [], []\n",
        "\n",
        "    for row in batch:\n",
        "        tokens = tokenizer(row['text'], truncation=True, max_length=max_len).input_ids\n",
        "        if len(tokens) < 4: continue  # 너무 짧은 문장 패스\n",
        "        labels.append(tokens[-3])  # 예측할 마지막 토큰\n",
        "        texts.append(torch.LongTensor(tokens[:-3]))  # 입력은 마지막 3개 제외\n",
        "\n",
        "    texts = pad_sequence(texts, batch_first=True, padding_value=tokenizer.pad_token_id)\n",
        "    labels = torch.LongTensor(labels)\n",
        "    return texts, labels\n",
        "\n",
        "# DataLoaders\n",
        "train_loader = DataLoader(\n",
        "    train_ds,\n",
        "    batch_size=64,\n",
        "    shuffle=True,\n",
        "    collate_fn=collate_fn\n",
        ")\n",
        "test_loader = DataLoader(\n",
        "    test_ds,\n",
        "    batch_size=64,\n",
        "    shuffle=False,\n",
        "    collate_fn=collate_fn\n",
        ")\n"
      ],
      "metadata": {
        "id": "u-I121osywgW"
      },
      "execution_count": null,
      "outputs": []
    },
    {
      "cell_type": "markdown",
      "source": [
        "## 2단계: 모델\n",
        "* 변경사항\n",
        "- 출력층 Linear(d_model → vocab_size)로 수정\n",
        "- Loss 함수 CrossEntropyLoss()로 변경 (label은 token id이므로)\n",
        "- 마지막 hidden state는 여전히 x[:, 0] 또는 x[:, -1] 중 선택 가능\n",
        "\n"
      ],
      "metadata": {
        "id": "X49Ft9Rx0tg1"
      }
    },
    {
      "cell_type": "code",
      "source": [
        "from torch import nn\n",
        "from math import sqrt\n",
        "import numpy as np\n",
        "\n",
        "\n",
        "# Self-Attention Layer\n",
        "class SelfAttention(nn.Module):\n",
        "  def __init__(self, input_dim, d_model):\n",
        "    super().__init__()\n",
        "\n",
        "    self.input_dim = input_dim\n",
        "    self.d_model = d_model\n",
        "\n",
        "    self.wq = nn.Linear(input_dim, d_model)\n",
        "    self.wk = nn.Linear(input_dim, d_model)\n",
        "    self.wv = nn.Linear(input_dim, d_model)\n",
        "    self.dense = nn.Linear(d_model, d_model)\n",
        "\n",
        "    self.softmax = nn.Softmax(dim=-1)\n",
        "\n",
        "  def forward(self, x, mask):\n",
        "    q, k, v = self.wq(x), self.wk(x), self.wv(x)\n",
        "    score = torch.matmul(q, k.transpose(-1, -2)) # (B, S, D) * (B, D, S) = (B, S, S)\n",
        "    score = score / sqrt(self.d_model)\n",
        "\n",
        "    if mask is not None:\n",
        "      score = score + (mask * -1e9)\n",
        "\n",
        "    score = self.softmax(score)\n",
        "    result = torch.matmul(score, v)\n",
        "    result = self.dense(result)\n",
        "\n",
        "    return result\n",
        "\n",
        "# Transformer Block\n",
        "class TransformerLayer(nn.Module):\n",
        "  def __init__(self, input_dim, d_model, dff):\n",
        "    super().__init__()\n",
        "\n",
        "    self.input_dim = input_dim\n",
        "    self.d_model = d_model\n",
        "    self.dff = dff\n",
        "\n",
        "    self.sa = SelfAttention(input_dim, d_model)\n",
        "    self.ffn = nn.Sequential(\n",
        "      nn.Linear(d_model, dff),\n",
        "      nn.ReLU(),\n",
        "      nn.Linear(dff, d_model)\n",
        "    )\n",
        "\n",
        "  def forward(self, x, mask):\n",
        "    x = self.sa(x, mask)\n",
        "    x = self.ffn(x)\n",
        "\n",
        "    return x\n",
        "\n",
        "# Positional Encoding\n",
        "def get_angles(pos, i, d_model):\n",
        "    angle_rates = 1 / np.power(10000, (2 * (i // 2)) / np.float32(d_model))\n",
        "    return pos * angle_rates\n",
        "\n",
        "def positional_encoding(position, d_model):\n",
        "    angle_rads = get_angles(np.arange(position)[:, None], np.arange(d_model)[None, :], d_model)\n",
        "    angle_rads[:, 0::2] = np.sin(angle_rads[:, 0::2])\n",
        "    angle_rads[:, 1::2] = np.cos(angle_rads[:, 1::2])\n",
        "    pos_encoding = angle_rads[None, ...]\n",
        "\n",
        "    return torch.FloatTensor(pos_encoding)\n",
        "\n",
        "\n",
        "\n",
        "\n",
        "# TextClassifier for token classification\n",
        "class TextClassifier(nn.Module):\n",
        "    def __init__(self, vocab_size, d_model, n_layers, dff):\n",
        "        super().__init__()\n",
        "        self.embedding = nn.Embedding(vocab_size, d_model)\n",
        "        self.pos_encoding = nn.parameter.Parameter(positional_encoding(400, d_model), requires_grad=False)\n",
        "        self.layers = nn.ModuleList([TransformerLayer(d_model, d_model, dff) for _ in range(n_layers)])\n",
        "        self.classification = nn.Linear(d_model, vocab_size)\n",
        "\n",
        "    def forward(self, x):\n",
        "        mask = (x == tokenizer.pad_token_id)[:, None, :]\n",
        "        x = self.embedding(x) * sqrt(self.embedding.embedding_dim)\n",
        "        x = x + self.pos_encoding[:, :x.size(1)]\n",
        "        for layer in self.layers:\n",
        "            x = layer(x, mask)\n",
        "        return self.classification(x[:, -1])  # 마지막 토큰의 representation 사용\n",
        "\n",
        "\n",
        "\n",
        "max_len = 400\n",
        "print(positional_encoding(max_len, 256).shape)\n"
      ],
      "metadata": {
        "colab": {
          "base_uri": "https://localhost:8080/"
        },
        "id": "C2wG3dpo0loB",
        "outputId": "d3c14b61-ae39-4902-a2e3-e5c362c8b694"
      },
      "execution_count": 2,
      "outputs": [
        {
          "output_type": "stream",
          "name": "stdout",
          "text": [
            "torch.Size([1, 400, 256])\n"
          ]
        }
      ]
    },
    {
      "cell_type": "code",
      "source": [
        "def accuracy(model, dataloader):\n",
        "  cnt, acc = 0, 0\n",
        "  for data in dataloader:\n",
        "    inputs, labels = data\n",
        "    inputs, labels = inputs.to('cuda'), labels.to('cuda')\n",
        "    preds = model(inputs)\n",
        "    preds = torch.argmax(preds, dim=-1)\n",
        "    acc += (preds == labels).sum().item()\n",
        "    cnt += labels.size(0)\n",
        "  return acc / cnt\n"
      ],
      "metadata": {
        "id": "twtf7wY11PDu"
      },
      "execution_count": 3,
      "outputs": []
    },
    {
      "cell_type": "markdown",
      "source": [
        "## 3단계: 학습 루프"
      ],
      "metadata": {
        "id": "2fQeedmT05ft"
      }
    },
    {
      "cell_type": "code",
      "source": [
        "from torch.optim import Adam\n",
        "\n",
        "device = 'cuda'\n",
        "model = TextClassifier(len(tokenizer), d_model=32, n_layers=2, dff=64).to(device)\n",
        "loss_fn = nn.CrossEntropyLoss()\n",
        "optimizer = Adam(model.parameters(), lr=1e-3)\n",
        "\n",
        "train_losses = []\n",
        "train_accuracies = []\n",
        "test_accuracies = []\n",
        "\n",
        "\n",
        "n_epochs = 50\n",
        "\n",
        "for epoch in range(n_epochs):\n",
        "    total_loss = 0\n",
        "    model.train()\n",
        "\n",
        "    for inputs, labels in train_loader:\n",
        "        inputs, labels = inputs.to(device), labels.to(device)\n",
        "        preds = model(inputs)\n",
        "        loss = loss_fn(preds, labels)\n",
        "        optimizer.zero_grad()\n",
        "        loss.backward()\n",
        "        optimizer.step()\n",
        "        total_loss += loss.item()\n",
        "\n",
        "    train_acc = accuracy(model, train_loader)\n",
        "    test_acc = accuracy(model, test_loader)\n",
        "\n",
        "    train_losses.append(total_loss)\n",
        "    train_accuracies.append(train_acc)\n",
        "    test_accuracies.append(test_acc)\n",
        "\n",
        "    print(f\"[Epoch {epoch}] Loss: {total_loss:.4f}, Train Acc: {train_acc:.3f}, Test Acc: {test_acc:.3f}\")"
      ],
      "metadata": {
        "colab": {
          "base_uri": "https://localhost:8080/"
        },
        "id": "Tnpvb7mA0_jx",
        "outputId": "0c204c45-5011-471e-d717-eaaf0ed89d27"
      },
      "execution_count": 6,
      "outputs": [
        {
          "output_type": "stream",
          "name": "stdout",
          "text": [
            "[Epoch 0] Loss: 205.3157, Train Acc: 0.000, Test Acc: 0.000\n",
            "[Epoch 1] Loss: 175.3220, Train Acc: 0.041, Test Acc: 0.024\n",
            "[Epoch 2] Loss: 137.5618, Train Acc: 0.041, Test Acc: 0.024\n",
            "[Epoch 3] Loss: 124.3951, Train Acc: 0.040, Test Acc: 0.049\n",
            "[Epoch 4] Loss: 120.3062, Train Acc: 0.034, Test Acc: 0.034\n",
            "[Epoch 5] Loss: 118.4701, Train Acc: 0.040, Test Acc: 0.049\n",
            "[Epoch 6] Loss: 117.7581, Train Acc: 0.041, Test Acc: 0.024\n",
            "[Epoch 7] Loss: 117.3902, Train Acc: 0.034, Test Acc: 0.034\n",
            "[Epoch 8] Loss: 116.3258, Train Acc: 0.040, Test Acc: 0.049\n",
            "[Epoch 9] Loss: 116.2270, Train Acc: 0.040, Test Acc: 0.049\n",
            "[Epoch 10] Loss: 115.9310, Train Acc: 0.040, Test Acc: 0.049\n",
            "[Epoch 11] Loss: 115.5678, Train Acc: 0.041, Test Acc: 0.024\n",
            "[Epoch 12] Loss: 115.5154, Train Acc: 0.041, Test Acc: 0.024\n",
            "[Epoch 13] Loss: 115.0901, Train Acc: 0.040, Test Acc: 0.049\n",
            "[Epoch 14] Loss: 114.8497, Train Acc: 0.041, Test Acc: 0.024\n",
            "[Epoch 15] Loss: 114.7530, Train Acc: 0.041, Test Acc: 0.026\n",
            "[Epoch 16] Loss: 114.3499, Train Acc: 0.040, Test Acc: 0.048\n",
            "[Epoch 17] Loss: 113.8625, Train Acc: 0.040, Test Acc: 0.049\n",
            "[Epoch 18] Loss: 113.8422, Train Acc: 0.040, Test Acc: 0.039\n",
            "[Epoch 19] Loss: 113.5639, Train Acc: 0.042, Test Acc: 0.022\n",
            "[Epoch 20] Loss: 113.5474, Train Acc: 0.037, Test Acc: 0.044\n",
            "[Epoch 21] Loss: 112.8815, Train Acc: 0.043, Test Acc: 0.022\n",
            "[Epoch 22] Loss: 111.4319, Train Acc: 0.042, Test Acc: 0.038\n",
            "[Epoch 23] Loss: 111.4415, Train Acc: 0.042, Test Acc: 0.022\n",
            "[Epoch 24] Loss: 110.5856, Train Acc: 0.043, Test Acc: 0.030\n",
            "[Epoch 25] Loss: 109.6288, Train Acc: 0.045, Test Acc: 0.026\n",
            "[Epoch 26] Loss: 109.0119, Train Acc: 0.045, Test Acc: 0.024\n",
            "[Epoch 27] Loss: 108.6715, Train Acc: 0.043, Test Acc: 0.034\n",
            "[Epoch 28] Loss: 108.1346, Train Acc: 0.046, Test Acc: 0.030\n",
            "[Epoch 29] Loss: 107.4968, Train Acc: 0.048, Test Acc: 0.025\n",
            "[Epoch 30] Loss: 106.2645, Train Acc: 0.050, Test Acc: 0.014\n",
            "[Epoch 31] Loss: 104.4057, Train Acc: 0.051, Test Acc: 0.028\n",
            "[Epoch 32] Loss: 103.6112, Train Acc: 0.053, Test Acc: 0.028\n",
            "[Epoch 33] Loss: 102.5175, Train Acc: 0.055, Test Acc: 0.034\n",
            "[Epoch 34] Loss: 101.2432, Train Acc: 0.054, Test Acc: 0.033\n",
            "[Epoch 35] Loss: 100.3264, Train Acc: 0.061, Test Acc: 0.033\n",
            "[Epoch 36] Loss: 98.7927, Train Acc: 0.061, Test Acc: 0.026\n",
            "[Epoch 37] Loss: 97.9022, Train Acc: 0.079, Test Acc: 0.031\n",
            "[Epoch 38] Loss: 96.9310, Train Acc: 0.061, Test Acc: 0.023\n",
            "[Epoch 39] Loss: 96.1887, Train Acc: 0.071, Test Acc: 0.022\n",
            "[Epoch 40] Loss: 96.1115, Train Acc: 0.058, Test Acc: 0.030\n",
            "[Epoch 41] Loss: 95.9184, Train Acc: 0.074, Test Acc: 0.028\n",
            "[Epoch 42] Loss: 94.2635, Train Acc: 0.069, Test Acc: 0.025\n",
            "[Epoch 43] Loss: 95.2498, Train Acc: 0.077, Test Acc: 0.029\n",
            "[Epoch 44] Loss: 92.1292, Train Acc: 0.076, Test Acc: 0.023\n",
            "[Epoch 45] Loss: 90.8352, Train Acc: 0.081, Test Acc: 0.022\n",
            "[Epoch 46] Loss: 89.4455, Train Acc: 0.094, Test Acc: 0.019\n",
            "[Epoch 47] Loss: 88.7295, Train Acc: 0.085, Test Acc: 0.027\n",
            "[Epoch 48] Loss: 88.7146, Train Acc: 0.104, Test Acc: 0.030\n",
            "[Epoch 49] Loss: 88.2599, Train Acc: 0.106, Test Acc: 0.026\n"
          ]
        }
      ]
    },
    {
      "cell_type": "code",
      "source": [
        "import matplotlib.pyplot as plt\n",
        "\n",
        "plt.plot(train_losses, label='Train Loss')\n",
        "plt.plot(train_accuracies, label='Train Acc')\n",
        "plt.plot(test_accuracies, label='Test Acc')\n",
        "plt.xlabel('Epoch')\n",
        "plt.ylabel('Value')\n",
        "plt.title('Training Curve - Last Word Prediction')\n",
        "plt.legend()\n",
        "plt.grid(True)\n",
        "plt.show()\n"
      ],
      "metadata": {
        "colab": {
          "base_uri": "https://localhost:8080/",
          "height": 472
        },
        "id": "jm9hSj1O1U-y",
        "outputId": "7c5b870d-287e-4eb6-89cf-b4a90516d89c"
      },
      "execution_count": 7,
      "outputs": [
        {
          "output_type": "display_data",
          "data": {
            "text/plain": [
              "<Figure size 640x480 with 1 Axes>"
            ],
            "image/png": "[encoded data removed]"
          },
          "metadata": {}
        }
      ]
    },
    {
      "cell_type": "code",
      "source": [],
      "metadata": {
        "id": "U2uXNIpBKoe_"
      },
      "execution_count": null,
      "outputs": []
    }
  ],
  "metadata": {
    "accelerator": "GPU",
    "colab": {
      "gpuType": "T4",
      "provenance": []
    },
    "kernelspec": {
      "display_name": "Python 3 (ipykernel)",
      "language": "python",
      "name": "python3"
    },
    "language_info": {
      "codemirror_mode": {
        "name": "ipython",
        "version": 3
      },
      "file_extension": ".py",
      "mimetype": "text/x-python",
      "name": "python",
      "nbconvert_exporter": "python",
      "pygments_lexer": "ipython3",
      "version": "3.10.14"
    }
  },
  "nbformat": 4,
  "nbformat_minor": 0
}